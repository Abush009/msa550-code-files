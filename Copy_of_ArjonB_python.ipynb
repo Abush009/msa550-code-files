{
  "nbformat": 4,
  "nbformat_minor": 0,
  "metadata": {
    "colab": {
      "provenance": [],
      "toc_visible": true,
      "authorship_tag": "ABX9TyOsYTi0/8XROvGybcsm4c6e",
      "include_colab_link": true
    },
    "kernelspec": {
      "name": "python3",
      "display_name": "Python 3"
    },
    "language_info": {
      "name": "python"
    }
  },
  "cells": [
    {
      "cell_type": "markdown",
      "metadata": {
        "id": "view-in-github",
        "colab_type": "text"
      },
      "source": [
        "<a href=\"https://colab.research.google.com/github/Abush009/msa550-code-files/blob/main/Copy_of_ArjonB_python.ipynb\" target=\"_parent\"><img src=\"https://colab.research.google.com/assets/colab-badge.svg\" alt=\"Open In Colab\"/></a>"
      ]
    },
    {
      "cell_type": "code",
      "source": [
        "#  Here you can import necessary libraries\n",
        "import pandas as pd\n",
        "import numpy as np\n",
        "import matplotlib.pyplot as plt\n",
        "import seaborn as sns\n",
        "import math\n",
        "import statistics\n",
        "import random"
      ],
      "metadata": {
        "id": "HsNnmCVdL2Pe"
      },
      "execution_count": null,
      "outputs": []
    },
    {
      "cell_type": "markdown",
      "source": [
        "##Task 1: Python Basics and Variables"
      ],
      "metadata": {
        "id": "ZqC0_vCVL3D2"
      }
    },
    {
      "cell_type": "code",
      "source": [
        "\"\"\"\n",
        "Create variables for your name, age, and favorite color.\n",
        "Then create a formatted string that says \"My name is [name], I am [age] years old, and my favorite color is [color].\"\n",
        "Print this string.\n",
        "\"\"\"\n",
        "# Your code here\n",
        "Name = \"Arjon\"\n",
        "Age = 32\n",
        "color = \"green\"\n",
        "formatted_string = f\"my name is {Name}, I am {Age} years old, my favourite color is {color}.\"\n",
        "\n",
        "print(formatted_string)"
      ],
      "metadata": {
        "colab": {
          "base_uri": "https://localhost:8080/"
        },
        "id": "bcYGrTgiL78i",
        "outputId": "4c974763-02e5-4002-da6b-181a18a03950"
      },
      "execution_count": null,
      "outputs": [
        {
          "output_type": "stream",
          "name": "stdout",
          "text": [
            "my name is Arjon, I am 32 years old, my favourite color is green.\n"
          ]
        }
      ]
    },
    {
      "cell_type": "markdown",
      "source": [
        "##Task 2: Input and Output"
      ],
      "metadata": {
        "id": "Nx7ySES-MHzO"
      }
    },
    {
      "cell_type": "code",
      "source": [
        "\"\"\"\n",
        "Ask the user for their weight in kilograms and height in meters.\n",
        "Calculate their BMI (Body Mass Index) using the formula: BMI = weight / (height^2)\n",
        "Print the result with 2 decimal places.\n",
        "\"\"\"\n",
        "# Your code here\n",
        "\n",
        "weight = float(input(\"Enter your weight in kilograms: \"))\n",
        "height = float(input(\"Enter your height in meters: \"))\n",
        "\n",
        "# Calculate BMI\n",
        "bmi = weight/height ** 2\n",
        "\n",
        "# Print the result with 2 decimal places\n",
        "print(f\"Your BMI is: {bmi:.2f}\")"
      ],
      "metadata": {
        "colab": {
          "base_uri": "https://localhost:8080/"
        },
        "id": "-oPae0xpMSNq",
        "outputId": "87aa8c2c-da4f-470c-e230-d55aea71c453"
      },
      "execution_count": null,
      "outputs": [
        {
          "output_type": "stream",
          "name": "stdout",
          "text": [
            "Enter your weight in kilograms: 67\n",
            "Enter your height in meters: 180\n",
            "Your BMI is: 0.00\n"
          ]
        }
      ]
    },
    {
      "cell_type": "markdown",
      "source": [],
      "metadata": {
        "id": "ccyjKUGYMnzA"
      }
    },
    {
      "cell_type": "code",
      "source": [
        "\"\"\"\n",
        "Using the math module, calculate the area of a circle with radius 7.5 units.\n",
        "Then, calculate the volume of a sphere with the same radius.\n",
        "Print both results rounded to 3 decimal places.\n",
        "\"\"\"\n",
        "\n",
        "import math\n",
        "\n",
        "radius = 7.5\n",
        "\n",
        "# Calculate the area of the circle\n",
        "area = math.pi * (radius ** 2)\n",
        "\n",
        "# Calculate the volume of the sphere\n",
        "volume = (4/3) * math.pi * (radius ** 3)\n",
        "\n",
        "# Print the results rounded to 3 decimal places\n",
        "print(f\"Area of the circle: {area:.3f}\")\n",
        "print(f\"Volume of the sphere: {volume:.3f}\")"
      ],
      "metadata": {
        "id": "IeQehDQGMuNm"
      },
      "execution_count": null,
      "outputs": []
    },
    {
      "cell_type": "code",
      "source": [
        "\"\"\"\n",
        "Create a string variable with the text \"Python Programming\".\n",
        "Print the following:\n",
        "1. The length of the string\n",
        "2. The string in all uppercase\n",
        "3. The last 5 characters of the string\n",
        "4. The string with all 'P' replaced by 'J'\n",
        "\"\"\"\n",
        "\n",
        "text = \"Python Programming\"\n",
        "\n",
        "# 1. Print the length of the string\n",
        "length_of_string = len(text)\n",
        "print(f\"Length of the string: {length_of_string}\")\n",
        "\n",
        "# 2. Print the string in all uppercase\n",
        "uppercase_text = text.upper()\n",
        "print(f\"String in uppercase: {uppercase_text}\")\n",
        "\n",
        "# 3. Print the last 5 characters of the string\n",
        "last_5_characters = text[-5:]\n",
        "print(f\"Last 5 characters: {last_5_characters}\")\n",
        "\n",
        "# 4. Print the string with all 'P' replaced by 'J'\n",
        "replaced_text = text.replace('P', 'J')\n",
        "print(f\"String with 'P' replaced by 'J': {replaced_text}\")"
      ],
      "metadata": {
        "id": "N9156KJUM2IL"
      },
      "execution_count": null,
      "outputs": []
    },
    {
      "cell_type": "code",
      "source": [
        "\"\"\"\n",
        "Create a string variable with the text \"Python Programming\".\n",
        "Print the following:\n",
        "1. The length of the string\n",
        "2. The string in all uppercase\n",
        "3. The last 5 characters of the string\n",
        "4. The string with all 'P' replaced by 'J'\n",
        "\"\"\"\n",
        "\n",
        "text = \"Python Programming\"\n",
        "\n",
        "# 1. Print the length of the string\n",
        "length_of_string = len(text)\n",
        "print(f\"Length of the string: {length_of_string}\")\n",
        "\n",
        "# 2. Print the string in all uppercase\n",
        "uppercase_text = text.upper()\n",
        "print(f\"String in uppercase: {uppercase_text}\")\n",
        "\n",
        "# 3. Print the last 5 characters of the string\n",
        "last_5_characters = text[-5:]\n",
        "print(f\"Last 5 characters: {last_5_characters}\")\n",
        "\n",
        "# 4. Print the string with all 'P' replaced by 'J'\n",
        "replaced_text = text.replace('P', 'J')\n",
        "print(f\"String with 'P' replaced by 'J': {replaced_text}\")"
      ],
      "metadata": {
        "id": "8Rn1af74M5QI"
      },
      "execution_count": null,
      "outputs": []
    },
    {
      "cell_type": "code",
      "source": [
        "\"\"\"\n",
        "Use a for loop to print the first 10 Fibonacci numbers.\n",
        "The Fibonacci sequence starts with 0 and 1, and each subsequent number is the sum of the two preceding ones.\n",
        "\"\"\"\n",
        "# Your code here\n",
        "# Initialize the first two numbers of the Fibonacci sequence\n",
        "a, b = 0, 1\n",
        "\n",
        "# Number of Fibonacci numbers to print\n",
        "n = 10\n",
        "\n",
        "# Print the first 10 Fibonacci numbers\n",
        "for _ in range(n):\n",
        "    print(a, end=' ')\n",
        "    # Update a and b to the next numbers in the sequence\n",
        "    a, b = b, a + b"
      ],
      "metadata": {
        "id": "hb131aV8NFIk"
      },
      "execution_count": null,
      "outputs": []
    },
    {
      "cell_type": "code",
      "source": [
        "\"\"\"\n",
        "Create a list of 10 random numbers between 1 and 100.\n",
        "Then, create a new list that contains only the even numbers from the original list.\n",
        "Print both lists.\n",
        "\"\"\"\n",
        "import random\n",
        "\n",
        "# Create a list of 10 random numbers between 1 and 100\n",
        "random_numbers = [random.randint(1, 100) for _ in range(10)]\n",
        "\n",
        "# Create a new list that contains only the even numbers\n",
        "even_numbers = [num for num in random_numbers if num % 2 == 0]\n",
        "\n",
        "# Print both lists\n",
        "print(\"Random Numbers:\", random_numbers)\n",
        "print(\"Even Numbers:\", even_numbers)"
      ],
      "metadata": {
        "id": "psQABTsONLRc"
      },
      "execution_count": null,
      "outputs": []
    },
    {
      "cell_type": "code",
      "source": [
        "\"\"\"\n",
        "Write a function called 'is_prime' that takes a number as an argument and returns True if the number is prime, and False otherwise.\n",
        "Test your function with the numbers 17 and 24.\n",
        "\"\"\"\n",
        "def is_prime(num):\n",
        "    if num <= 1:\n",
        "        return False\n",
        "    for i in range(2, int(num**0.5) + 1):\n",
        "        if num % i == 0:\n",
        "            return False\n",
        "    return True\n",
        "\n",
        "print(\"Is 17 prime?\", is_prime(17))\n",
        "print(\"Is 24 prime?\", is_prime(24))"
      ],
      "metadata": {
        "id": "MIK5uGVjNMUb"
      },
      "execution_count": null,
      "outputs": []
    },
    {
      "cell_type": "code",
      "source": [
        "\n",
        "\"\"\"\n",
        "Create a DataFrame with the following data:\n",
        "Name: ['Alice', 'Bob', 'Charlie', 'David', 'Eve']\n",
        "Age: [25, 30, 35, 28, 22]\n",
        "City: ['New York', 'San Francisco', 'Los Angeles', 'Chicago', 'Boston']\n",
        "Salary: [50000, 70000, 65000, 55000, 45000]\n",
        "\n",
        "Then, perform the following operations:\n",
        "1. Sort the DataFrame by Salary in descending order\n",
        "2. Calculate the average age\n",
        "3. Find the person with the highest salary\n",
        "4. Create a new column 'Salary_Category' where salary > 60000 is 'High', otherwise 'Low'\n",
        "\"\"\"\n",
        "# Your code here\n",
        "import pandas as pd\n",
        "\n",
        "# Create the DataFrame\n",
        "data = {\n",
        "    'Name': ['Alice', 'Bob', 'Charlie', 'David', 'Eve'],\n",
        "    'Age': [25, 30, 35, 28, 22],\n",
        "    'City': ['New York', 'San Francisco', 'Los Angeles', 'Chicago', 'Boston'],\n",
        "    'Salary': [50000, 70000, 65000, 55000, 45000]\n",
        "}\n",
        "\n",
        "df = pd.DataFrame(data)\n",
        "\n",
        "# 1. Sort the DataFrame by Salary in descending order\n",
        "sorted_df = df.sort_values(by='Salary', ascending=False)\n",
        "print(\"Sorted DataFrame by Salary (Descending):\")\n",
        "print(sorted_df)\n",
        "\n",
        "# 2. Calculate the average age\n",
        "average_age = df['Age'].mean()\n",
        "print(f\"\\nAverage Age: {average_age:.2f}\")\n",
        "\n",
        "# 3. Find the person with the highest salary\n",
        "highest_salary_person = df.loc[df['Salary'].idxmax()]\n",
        "print(f\"\\nPerson with the highest salary:\\n{highest_salary_person}\")\n",
        "\n",
        "# 4. Create a new column 'Salary_Category'\n",
        "df['Salary_Category'] = df['Salary'].apply(lambda x: 'High' if x > 60000 else 'Low')\n",
        "print(\"\\nDataFrame with Salary_Category:\")\n",
        "print(df)\n"
      ],
      "metadata": {
        "id": "TsQ0ssz2Neir"
      },
      "execution_count": null,
      "outputs": []
    }
  ]
}